{
 "cells": [
  {
   "cell_type": "code",
   "execution_count": 6,
   "metadata": {},
   "outputs": [
    {
     "name": "stdout",
     "output_type": "stream",
     "text": [
      "1\n",
      "2\n",
      "3\n",
      "4\n",
      "5\n",
      "6\n",
      "7\n",
      "8\n",
      "9\n",
      "10\n"
     ]
    }
   ],
   "source": [
    "#Print the First 10 natural numbers\n",
    "def num(x, y):\n",
    "    for i in range(x, y):\n",
    "        print(i)\n",
    "num(1, 11)"
   ]
  },
  {
   "cell_type": "code",
   "execution_count": 8,
   "metadata": {},
   "outputs": [
    {
     "data": {
      "text/plain": [
       "15"
      ]
     },
     "execution_count": 8,
     "metadata": {},
     "output_type": "execute_result"
    }
   ],
   "source": [
    "#calculate the sum of all numbers from 1 to a given number\n",
    "def sum(a, b, c, d, e):\n",
    "    ans= a+b+c+d+e\n",
    "    return ans\n",
    "sum(1, 2, 3, 4, 5)    \n",
    "#Ask Kosi how do this when we have many numbers that we cannot write down"
   ]
  },
  {
   "cell_type": "code",
   "execution_count": 32,
   "metadata": {},
   "outputs": [
    {
     "name": "stdout",
     "output_type": "stream",
     "text": [
      "5\n",
      "5  x  1 = 5\n",
      "5  x  2 = 10\n",
      "5  x  3 = 15\n",
      "5  x  4 = 20\n",
      "5  x  5 = 25\n",
      "5  x  6 = 30\n",
      "5  x  7 = 35\n",
      "5  x  8 = 40\n",
      "5  x  9 = 45\n",
      "5  x  10 = 50\n",
      "5  x  11 = 55\n",
      "5  x  12 = 60\n"
     ]
    }
   ],
   "source": [
    "def print_table (num):\n",
    "    for i in range(1, 13):\n",
    "        print( num, ' x ', i, '=', num*i)\n",
    "n= int(input())\n",
    "\"\"\" to input any number of your choosing\"\"\"\n",
    "print_table(n)"
   ]
  },
  {
   "cell_type": "code",
   "execution_count": null,
   "metadata": {},
   "outputs": [],
   "source": []
  },
  {
   "cell_type": "code",
   "execution_count": null,
   "metadata": {},
   "outputs": [],
   "source": []
  }
 ],
 "metadata": {
  "kernelspec": {
   "display_name": "Python 3",
   "language": "python",
   "name": "python3"
  },
  "language_info": {
   "codemirror_mode": {
    "name": "ipython",
    "version": 3
   },
   "file_extension": ".py",
   "mimetype": "text/x-python",
   "name": "python",
   "nbconvert_exporter": "python",
   "pygments_lexer": "ipython3",
   "version": "3.7.3"
  }
 },
 "nbformat": 4,
 "nbformat_minor": 5
}
