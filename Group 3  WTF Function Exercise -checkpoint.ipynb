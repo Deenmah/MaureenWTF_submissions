{
 "cells": [
  {
   "cell_type": "code",
   "execution_count": null,
   "metadata": {},
   "outputs": [],
   "source": [
    "Group Members\n",
    "1.Kasham Bature\n",
    "2.Matilda Savage\n",
    "3.Maureen Muomah\n",
    "4.Nkechinyere Ariom\n",
    "5.Odinaka Ojiba\n",
    "6.Oluwabukunmi Falohun\n",
    "7.Odunayo Abogunrin\n",
    "8.Oghenetega John\n",
    "9.Lydia Karioko"
   ]
  },
  {
   "cell_type": "code",
   "execution_count": 1,
   "metadata": {},
   "outputs": [
    {
     "data": {
      "text/plain": [
       "4"
      ]
     },
     "execution_count": 1,
     "metadata": {},
     "output_type": "execute_result"
    }
   ],
   "source": [
    "#QUESTION 1 Write a Python function to find the Max of three numbers.\n",
    "\n",
    "def max_number(x,y,z):\n",
    "    return max (x,y,z)\n",
    "max_number(2,3,4)"
   ]
  },
  {
   "cell_type": "code",
   "execution_count": null,
   "metadata": {},
   "outputs": [],
   "source": [
    "#function to find the max"
   ]
  },
  {
   "cell_type": "code",
   "execution_count": 32,
   "metadata": {},
   "outputs": [
    {
     "name": "stdout",
     "output_type": "stream",
     "text": [
      "20\n"
     ]
    }
   ],
   "source": [
    "#Question 2:Write a Python function to sum all the numbers in a list\n",
    "def sum(numbers):\n",
    "    total = 0\n",
    "    for x in numbers:\n",
    "        total += x\n",
    "    return total\n",
    "print(sum((8, 2, 3, 0, 7)))"
   ]
  },
  {
   "cell_type": "code",
   "execution_count": 54,
   "metadata": {},
   "outputs": [
    {
     "data": {
      "text/plain": [
       "'nohtyp'"
      ]
     },
     "execution_count": 54,
     "metadata": {},
     "output_type": "execute_result"
    }
   ],
   "source": [
    "#Question 3:Write a Python program to reverse a string\n",
    "x = \"python\"\n",
    "x[::-1]"
   ]
  },
  {
   "cell_type": "code",
   "execution_count": 15,
   "metadata": {},
   "outputs": [
    {
     "name": "stdout",
     "output_type": "stream",
     "text": [
      "False\n"
     ]
    }
   ],
   "source": [
    "#Question 4:Write a Python function to check whether a number falls in a given range\n",
    "def range1(a):\n",
    "    if a in range(1,8):\n",
    "        Print(True)\n",
    "    else:\n",
    "        print(False)\n",
    "range1(10)     "
   ]
  },
  {
   "cell_type": "code",
   "execution_count": 38,
   "metadata": {},
   "outputs": [
    {
     "name": "stdout",
     "output_type": "stream",
     "text": [
      "[2, 5, 10, 8]\n"
     ]
    }
   ],
   "source": [
    "#Question 5: Write a Python function that takes a list and returns a new list with unique elements of the first list\n",
    "def unique_list(y):\n",
    "    new_list = []\n",
    "    for a in y:\n",
    "        if a not in new_list:\n",
    "            new_list.append(a)\n",
    "    return new_list\n",
    "print(unique_list([2,5,10,5,2,8]))"
   ]
  },
  {
   "cell_type": "code",
   "execution_count": 43,
   "metadata": {},
   "outputs": [
    {
     "name": "stdout",
     "output_type": "stream",
     "text": [
      "2\n",
      "4\n",
      "6\n",
      "10\n",
      "None\n"
     ]
    }
   ],
   "source": [
    "#Question 6:Write a Python program to print the even numbers from a given list.\n",
    "def even_numbers(x):\n",
    "    for i in x:\n",
    "        if i % 2 == 0:\n",
    "            print(i)\n",
    "print(even_numbers([2,4,5,6,9,7,10]))"
   ]
  },
  {
   "cell_type": "code",
   "execution_count": 51,
   "metadata": {},
   "outputs": [
    {
     "name": "stdout",
     "output_type": "stream",
     "text": [
      "1991 is a palindrome\n",
      "None\n"
     ]
    }
   ],
   "source": [
    "#Question 7: Write a Python function that checks whether a passed string is a palindrome or not.\n",
    "def pal(b):\n",
    "    if b[::1] == b[::-1]:\n",
    "        print(b,'is a palindrome')\n",
    "    else:\n",
    "        print(b,'is not a palindrome')\n",
    "print(pal('1991'))        "
   ]
  },
  {
   "cell_type": "code",
   "execution_count": 66,
   "metadata": {},
   "outputs": [
    {
     "name": "stdout",
     "output_type": "stream",
     "text": [
      "[1, 4, 9, 16, 25]\n"
     ]
    }
   ],
   "source": [
    "#Question 8: Write a Python function to create and print a list where the values are squares of numbers\n",
    "# between 1 and 30 (both included).\n",
    "def square(a,b): \n",
    "    l=[] \n",
    "    for i in range(a,b+1):\n",
    "        if i * i < 30:\n",
    "            l.append(i*i) \n",
    "    return(l) \n",
    "     \n",
    "print(square(1,30)) "
   ]
  },
  {
   "cell_type": "code",
   "execution_count": 67,
   "metadata": {},
   "outputs": [
    {
     "name": "stdout",
     "output_type": "stream",
     "text": [
      "[1, 4, 9, 16, 25, 36, 49, 64, 81, 100, 121, 144, 169, 196, 225, 256, 289, 324, 361, 400, 441, 484, 529, 576, 625, 676, 729, 784, 841, 900]\n"
     ]
    }
   ],
   "source": [
    "#Question 8\n",
    "def square(a,b): \n",
    "    l=[] \n",
    "    for i in range(a,b+1): \n",
    "        l.append(i*i) \n",
    "    return(l) \n",
    "     \n",
    "print(square(1,30))"
   ]
  },
  {
   "cell_type": "code",
   "execution_count": 71,
   "metadata": {},
   "outputs": [
    {
     "name": "stdout",
     "output_type": "stream",
     "text": [
      "[1, 4, 9, 16, 25, 36, 49, 64, 81, 100, 121, 144, 169, 196, 225, 256, 289, 324, 361, 400, 441, 484, 529, 576, 625, 676, 729, 784, 841, 900]\n",
      "None\n"
     ]
    }
   ],
   "source": [
    "#Question 8\n",
    "def printValues(): \n",
    "    l = list()     \n",
    "    for i in range(1,31):       \n",
    "        l.append(i**2)     \n",
    "    print(l)       \n",
    "print(printValues())"
   ]
  },
  {
   "cell_type": "code",
   "execution_count": null,
   "metadata": {},
   "outputs": [],
   "source": []
  }
 ],
 "metadata": {
  "kernelspec": {
   "display_name": "Python 3",
   "language": "python",
   "name": "python3"
  },
  "language_info": {
   "codemirror_mode": {
    "name": "ipython",
    "version": 3
   },
   "file_extension": ".py",
   "mimetype": "text/x-python",
   "name": "python",
   "nbconvert_exporter": "python",
   "pygments_lexer": "ipython3",
   "version": "3.7.3"
  }
 },
 "nbformat": 4,
 "nbformat_minor": 5
}
